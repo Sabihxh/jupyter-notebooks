{
 "cells": [
  {
   "cell_type": "markdown",
   "metadata": {},
   "source": [
    "## Potential Properties List\n",
    "List of all the properties to buy"
   ]
  },
  {
   "cell_type": "markdown",
   "metadata": {},
   "source": [
    "### New Builds"
   ]
  },
  {
   "cell_type": "markdown",
   "metadata": {},
   "source": [
    "#### Penthouse, Morville St, Bow, E3 (Stratford ~30mins)\n",
    "-    Price: POA\n",
    "-    Nearest stn: Bow Road (district) \n",
    "-    No. 020 8022 6970\n",
    "-    https://www.onthemarket.com/details/5341249/?confirm=for-sale"
   ]
  },
  {
   "cell_type": "markdown",
   "metadata": {},
   "source": [
    "#### The Rise, Alperton\n",
    "- £350,000\n",
    "- 020 8022 6543\n",
    "- Alperton (Picadally), Hanger Lane (Central)\n",
    "- https://www.onthemarket.com/details/7592208/"
   ]
  },
  {
   "cell_type": "markdown",
   "metadata": {},
   "source": [
    "#### The Vale, Golders Green\n",
    "- £349,950\n",
    "- 020 8115 1406\n",
    "- Golders Green (Northern Line)\n",
    "- https://www.onthemarket.com/details/5988877/\n",
    "\n",
    "\n",
    "#### Flowers Close, Neasden, London (Freehold)\n",
    "- £349,900\n",
    "- 020 8115 2173\n",
    "- Neasden (Jubilee)\n",
    "- https://www.onthemarket.com/details/6832301/\n",
    "\n",
    "\n",
    "#### High Road, Willesden, London\n",
    "- Price: 324,950\n",
    "- 020 3544 3990\n",
    "- Nearest stn: Neasden (Jubilee)\n",
    "- https://www.onthemarket.com/details/7921481/"
   ]
  },
  {
   "cell_type": "markdown",
   "metadata": {},
   "source": [
    "### Upton Park - Lots of developments?\n",
    "\n",
    "#### Taylor House, Upton Gardens, Upton Park, London, E13\n",
    "- £350,000\n",
    "- 020 8115 0051\n",
    "- Upton Park, EastHam\n",
    "- https://www.onthemarket.com/details/6205067/\n",
    "\n",
    "#### Lyall House, Shipbuilding Way, Priory Road, Upton Gardens, Upton Park, London, E13\n",
    "- 338,000\n",
    "- 020 8115 0051\n",
    "- Upton Park, EastHam\n",
    "- https://www.onthemarket.com/details/6436221/\n",
    "\n",
    "\n",
    "#### Brand New Development, Upton Park, Eastham, London, E13\n",
    "- 340,000\n",
    "- "
   ]
  },
  {
   "cell_type": "code",
   "execution_count": null,
   "metadata": {},
   "outputs": [],
   "source": []
  },
  {
   "cell_type": "code",
   "execution_count": null,
   "metadata": {},
   "outputs": [],
   "source": []
  },
  {
   "cell_type": "code",
   "execution_count": null,
   "metadata": {},
   "outputs": [],
   "source": []
  },
  {
   "cell_type": "code",
   "execution_count": null,
   "metadata": {},
   "outputs": [],
   "source": []
  },
  {
   "cell_type": "code",
   "execution_count": null,
   "metadata": {},
   "outputs": [],
   "source": []
  },
  {
   "cell_type": "code",
   "execution_count": null,
   "metadata": {},
   "outputs": [],
   "source": []
  },
  {
   "cell_type": "code",
   "execution_count": null,
   "metadata": {},
   "outputs": [],
   "source": []
  }
 ],
 "metadata": {
  "kernelspec": {
   "display_name": "Python 3",
   "language": "python",
   "name": "python3"
  },
  "language_info": {
   "codemirror_mode": {
    "name": "ipython",
    "version": 3
   },
   "file_extension": ".py",
   "mimetype": "text/x-python",
   "name": "python",
   "nbconvert_exporter": "python",
   "pygments_lexer": "ipython3",
   "version": "3.7.6"
  }
 },
 "nbformat": 4,
 "nbformat_minor": 4
}
