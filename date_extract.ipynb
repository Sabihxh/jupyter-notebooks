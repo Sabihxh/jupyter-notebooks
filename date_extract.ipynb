{
 "cells": [
  {
   "cell_type": "markdown",
   "metadata": {},
   "source": [
    "# Extracting Dates from Text Data\n",
    "\n",
    "**Goal: Extract relevant infromation from messy medical data using regex.**\n",
    "\n",
    "Each line of the `dates.txt` file corresponds to a medical note. Each note has a date that needs to be extracted, but each date is encoded in one of many formats.\n",
    "\n",
    "The goal is to correctly identify all of the different date variants encoded in this dataset and to properly normalize and sort the dates. \n",
    "\n",
    "**List of some variants might be encountered in this dataset:**\n",
    "* 04/20/2009; 04/20/09; 4/20/09; 4/3/09\n",
    "* Mar-20-2009; Mar 20, 2009; March 20, 2009;  Mar. 20, 2009; Mar 20 2009;\n",
    "* 20 Mar 2009; 20 March 2009; 20 Mar. 2009; 20 March, 2009\n",
    "* Mar 20th, 2009; Mar 21st, 2009; Mar 22nd, 2009\n",
    "* Feb 2009; Sep 2009; Oct 2010\n",
    "* 6/2008; 12/2009\n",
    "* 2009; 2010\n",
    "\n",
    "After extracting the dates, we need to sort them in ascending chronological order according to the following **rules/assumptions:**\n",
    "* Assume all dates in xx/xx/xx format are mm/dd/yy\n",
    "* Assume all dates where year is encoded in only two digits are years from the 1900's (e.g. 1/5/89 is January 5th, 1989)\n",
    "* If the day is missing (e.g. 9/2009), assume it is the first day of the month (e.g. September 1, 2009).\n",
    "* If the month is missing (e.g. 2010), assume it is the first of January of that year (e.g. January 1, 2010).\n",
    "* Lookout for potential typos as this is a raw, real-life derived dataset.\n",
    "\n",
    "With these rules in mind, we find the correct date in each note and return a pandas Series in chronological order of the original Series' indices.\n",
    "\n",
    "Output date format: **yyyy-mm-dd**\n",
    "\n",
    "**Example Output:**\n",
    "\n",
    "                raw_text                  date\n",
    "    0    3/25/93 Total time of visit    1993-03-25\n",
    "    1    6/18/85 Primary Care Doctor    1985-06-18\n",
    "    2    plans to move as of 7/8/71     1971-07-08"
   ]
  },
  {
   "cell_type": "code",
   "execution_count": 18,
   "metadata": {},
   "outputs": [],
   "source": [
    "import re\n",
    "\n",
    "import numpy as np\n",
    "import pandas as pd"
   ]
  },
  {
   "cell_type": "code",
   "execution_count": 19,
   "metadata": {},
   "outputs": [
    {
     "data": {
      "text/plain": [
       "0           03/25/93 Total time of visit (in minutes):\n",
       "1                         6/18/85 Primary Care Doctor:\n",
       "2    sshe plans to move as of 7/8/71 In-Home Servic...\n",
       "3                  7 on 9/27/75 Audit C Score Current:\n",
       "4    2/6/96 sleep studyPain Treatment Pain Level (N...\n",
       "5                      .Per 7/06/79 Movement D/O note:\n",
       "6    4, 5/18/78 Patient's thoughts about current su...\n",
       "7    10/24/89 CPT Code: 90801 - Psychiatric Diagnos...\n",
       "8                           3/7/86 SOS-10 Total Score:\n",
       "9               (4/10/71)Score-1Audit C Score Current:\n",
       "Name: raw_text, dtype: object"
      ]
     },
     "execution_count": 19,
     "metadata": {},
     "output_type": "execute_result"
    }
   ],
   "source": [
    "# Read data\n",
    "filepath = './data/process/dates.txt'\n",
    "doc = []\n",
    "\n",
    "with open(filepath) as file:\n",
    "    for line in file:\n",
    "        doc.append(line.strip())\n",
    "\n",
    "df = pd.Series(doc)\n",
    "df.name = 'raw_text'\n",
    "df.head(10)"
   ]
  },
  {
   "cell_type": "code",
   "execution_count": 23,
   "metadata": {},
   "outputs": [],
   "source": [
    "def date_sorter():\n",
    "    mod_df = df\n",
    "    \n",
    "    # Regular expressions to extract various date formats\n",
    "    r_month_text = r'(?:jan|feb|mar|apr|may|jun|jul|aug|sep|oct|nov|dec)[a-z]*'    \n",
    "    r_year = r'(?:[12][90]\\d{2}|\\d{2})'\n",
    "    r_day = r'[0-3]?[0-9]'\n",
    "    regexes = [\n",
    "        r'({}{}{}{})'.format(r'(?:[1][012]|[1-9])[-/\\s]', r_day, '[-/\\s]', r_year), # mm-dd-yyyy\n",
    "        r'({}{}{}{}{})'.format(r_month_text, r'[-\\s.]?\\s?', r_day, '[-,]\\s?', r_year), # month-dd-yyyy\n",
    "        r'({}{}{}{})'.format(r'\\d{2}\\s', r_month_text, r'[,.]?\\s', r_year), # dd-month-yyyy\n",
    "        r'({}{}{})'.format(r_month_text, r'\\s\\d{2}(?=\\w{2})?,?\\s', r_year), # month-dd[st|nd...]-yyyy\n",
    "        r'({}{}{})'.format(r_month_text, r',?\\s?', r_year), # month-yyyy\n",
    "        r'({}{})'.format(r'(?<=[-\\s])?[01]?\\d[-/,]\\s?', r_year), # mm-yyyy\n",
    "        r'([12][90]\\d{2})'\n",
    "    ]\n",
    "\n",
    "    # Loop over the list of regexes to extract all dates \n",
    "    extracted_series_list = []\n",
    "    for i, regex in enumerate(regexes):\n",
    "        extracted = mod_df.str.extract(regex, flags=re.IGNORECASE).dropna()\n",
    "        ext_index = extracted.dropna().index\n",
    "        mod_df = mod_df.drop(ext_index)\n",
    "        extracted_series_list.append(extracted)\n",
    "    \n",
    "    # Join all extracted dataframes and replace month name by first three characters\n",
    "    final_df = (\n",
    "        pd.concat(extracted_series_list)\n",
    "        .loc[:, 0]\n",
    "        .str.replace('[a-z]+', lambda x: x.group(0)[:2])\n",
    "    )\n",
    "    \n",
    "    # Fix remaining anomalies manually\n",
    "    final_df[[461, 465]] = final_df.loc[[461, 465]].str.replace('\\d{2},\\s', '')\n",
    "    \n",
    "    # Convert all extracted dates to datetime\n",
    "    final_df = pd.to_datetime(final_df)\n",
    "    \n",
    "    return final_df"
   ]
  },
  {
   "cell_type": "code",
   "execution_count": 25,
   "metadata": {},
   "outputs": [
    {
     "data": {
      "text/plain": [
       "0   1993-03-25\n",
       "1   1985-06-18\n",
       "2   1971-07-08\n",
       "3   1975-09-27\n",
       "4   1996-02-06\n",
       "Name: 0, dtype: datetime64[ns]"
      ]
     },
     "execution_count": 25,
     "metadata": {},
     "output_type": "execute_result"
    }
   ],
   "source": [
    "date_sorter().head()"
   ]
  },
  {
   "cell_type": "code",
   "execution_count": null,
   "metadata": {},
   "outputs": [],
   "source": []
  },
  {
   "cell_type": "code",
   "execution_count": null,
   "metadata": {},
   "outputs": [],
   "source": []
  }
 ],
 "metadata": {
  "kernelspec": {
   "display_name": "Python 3",
   "language": "python",
   "name": "python3"
  },
  "language_info": {
   "codemirror_mode": {
    "name": "ipython",
    "version": 3
   },
   "file_extension": ".py",
   "mimetype": "text/x-python",
   "name": "python",
   "nbconvert_exporter": "python",
   "pygments_lexer": "ipython3",
   "version": "3.6.5"
  }
 },
 "nbformat": 4,
 "nbformat_minor": 2
}
