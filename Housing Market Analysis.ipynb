{
 "cells": [
  {
   "cell_type": "markdown",
   "metadata": {},
   "source": [
    "# Housing Market Analysis (London)\n",
    "\n",
    "**NOTE:** Zoopla's API is not working. Hence, this project is abondoned until a new way to get london's housing data is found.\n",
    "\n",
    "[London Underground Stations Data](https://storage.cloud.google.com/london-housing-market/london-underground-stations.csv)\n",
    "\n",
    "#### Install kernel for this project\n",
    "`ipython kernel install --user --name=london-housing-market`"
   ]
  },
  {
   "cell_type": "code",
   "execution_count": 1,
   "metadata": {},
   "outputs": [],
   "source": [
    "%matplotlib inline\n",
    "\n",
    "import pandas as pd\n",
    "import requests\n",
    "\n",
    "import matplotlib.pyplot as plt\n",
    "import seaborn as sns; sns.set()"
   ]
  },
  {
   "cell_type": "code",
   "execution_count": 2,
   "metadata": {},
   "outputs": [
    {
     "data": {
      "text/plain": [
       "'0.9.0'"
      ]
     },
     "execution_count": 2,
     "metadata": {},
     "output_type": "execute_result"
    }
   ],
   "source": [
    "sns.__version__"
   ]
  },
  {
   "cell_type": "markdown",
   "metadata": {},
   "source": [
    "### London Underground stations data"
   ]
  },
  {
   "cell_type": "code",
   "execution_count": 37,
   "metadata": {},
   "outputs": [
    {
     "data": {
      "text/html": [
       "<div>\n",
       "<style scoped>\n",
       "    .dataframe tbody tr th:only-of-type {\n",
       "        vertical-align: middle;\n",
       "    }\n",
       "\n",
       "    .dataframe tbody tr th {\n",
       "        vertical-align: top;\n",
       "    }\n",
       "\n",
       "    .dataframe thead th {\n",
       "        text-align: right;\n",
       "    }\n",
       "</style>\n",
       "<table border=\"1\" class=\"dataframe\">\n",
       "  <thead>\n",
       "    <tr style=\"text-align: right;\">\n",
       "      <th></th>\n",
       "      <th>station</th>\n",
       "      <th>line</th>\n",
       "      <th>local_authority</th>\n",
       "      <th>zone</th>\n",
       "      <th>usage</th>\n",
       "      <th>no_of_lines</th>\n",
       "    </tr>\n",
       "  </thead>\n",
       "  <tbody>\n",
       "    <tr>\n",
       "      <th>0</th>\n",
       "      <td>acton town</td>\n",
       "      <td>[district, piccadilly]</td>\n",
       "      <td>Ealing</td>\n",
       "      <td>3</td>\n",
       "      <td>6.04</td>\n",
       "      <td>2</td>\n",
       "    </tr>\n",
       "    <tr>\n",
       "      <th>1</th>\n",
       "      <td>aldgate</td>\n",
       "      <td>[metropolitan, circle]</td>\n",
       "      <td>City of London</td>\n",
       "      <td>1</td>\n",
       "      <td>8.85</td>\n",
       "      <td>2</td>\n",
       "    </tr>\n",
       "    <tr>\n",
       "      <th>2</th>\n",
       "      <td>aldgate east</td>\n",
       "      <td>[hammersmith &amp; city, district]</td>\n",
       "      <td>Tower Hamlets</td>\n",
       "      <td>1</td>\n",
       "      <td>14.00</td>\n",
       "      <td>2</td>\n",
       "    </tr>\n",
       "    <tr>\n",
       "      <th>3</th>\n",
       "      <td>alperton</td>\n",
       "      <td>[piccadilly]</td>\n",
       "      <td>Brent</td>\n",
       "      <td>4</td>\n",
       "      <td>3.05</td>\n",
       "      <td>1</td>\n",
       "    </tr>\n",
       "    <tr>\n",
       "      <th>4</th>\n",
       "      <td>amersham</td>\n",
       "      <td>[metropolitan]</td>\n",
       "      <td>Chiltern</td>\n",
       "      <td>9</td>\n",
       "      <td>2.32</td>\n",
       "      <td>1</td>\n",
       "    </tr>\n",
       "  </tbody>\n",
       "</table>\n",
       "</div>"
      ],
      "text/plain": [
       "        station                            line local_authority zone  usage  \\\n",
       "0    acton town          [district, piccadilly]          Ealing    3   6.04   \n",
       "1       aldgate          [metropolitan, circle]  City of London    1   8.85   \n",
       "2  aldgate east  [hammersmith & city, district]   Tower Hamlets    1  14.00   \n",
       "3      alperton                    [piccadilly]           Brent    4   3.05   \n",
       "4      amersham                  [metropolitan]        Chiltern    9   2.32   \n",
       "\n",
       "   no_of_lines  \n",
       "0            2  \n",
       "1            2  \n",
       "2            2  \n",
       "3            1  \n",
       "4            1  "
      ]
     },
     "execution_count": 37,
     "metadata": {},
     "output_type": "execute_result"
    }
   ],
   "source": [
    "def get_london_underground_data():\n",
    "    df = pd.read_csv('london-underground-stations.csv')\n",
    "    df['station'] = df['station'].str.lower()\n",
    "    df['line'] = df['line'].str.replace(r'\\[.+\\]', '').str.lower().str.split('\\n')\n",
    "    df['no_of_lines'] = df['line'].apply(lambda x: len(x))\n",
    "    df['usage'] = df['usage'].str.split('\\n').apply(lambda x: x[0]).astype('float32')\n",
    "    return df\n",
    "    \n",
    "df = get_london_underground_data()\n",
    "df.head()"
   ]
  },
  {
   "cell_type": "code",
   "execution_count": 40,
   "metadata": {},
   "outputs": [
    {
     "name": "stdout",
     "output_type": "stream",
     "text": [
      "<class 'pandas.core.frame.DataFrame'>\n",
      "RangeIndex: 270 entries, 0 to 269\n",
      "Data columns (total 6 columns):\n",
      "station            270 non-null object\n",
      "line               270 non-null object\n",
      "local_authority    270 non-null object\n",
      "zone               270 non-null object\n",
      "usage              270 non-null float32\n",
      "no_of_lines        270 non-null int64\n",
      "dtypes: float32(1), int64(1), object(4)\n",
      "memory usage: 11.7+ KB\n"
     ]
    }
   ],
   "source": [
    "df.info()"
   ]
  },
  {
   "cell_type": "code",
   "execution_count": 41,
   "metadata": {},
   "outputs": [],
   "source": [
    "df = df.sort_values(by='usage', ascending=False)"
   ]
  },
  {
   "cell_type": "code",
   "execution_count": 42,
   "metadata": {},
   "outputs": [
    {
     "data": {
      "text/html": [
       "<div>\n",
       "<style scoped>\n",
       "    .dataframe tbody tr th:only-of-type {\n",
       "        vertical-align: middle;\n",
       "    }\n",
       "\n",
       "    .dataframe tbody tr th {\n",
       "        vertical-align: top;\n",
       "    }\n",
       "\n",
       "    .dataframe thead th {\n",
       "        text-align: right;\n",
       "    }\n",
       "</style>\n",
       "<table border=\"1\" class=\"dataframe\">\n",
       "  <thead>\n",
       "    <tr style=\"text-align: right;\">\n",
       "      <th></th>\n",
       "      <th>station</th>\n",
       "      <th>line</th>\n",
       "      <th>local_authority</th>\n",
       "      <th>zone</th>\n",
       "      <th>usage</th>\n",
       "      <th>no_of_lines</th>\n",
       "    </tr>\n",
       "  </thead>\n",
       "  <tbody>\n",
       "    <tr>\n",
       "      <th>129</th>\n",
       "      <td>king's cross st pancras</td>\n",
       "      <td>[metropolitan, northern, piccadilly, circle, v...</td>\n",
       "      <td>Camden</td>\n",
       "      <td>1</td>\n",
       "      <td>97.919998</td>\n",
       "      <td>6</td>\n",
       "    </tr>\n",
       "    <tr>\n",
       "      <th>246</th>\n",
       "      <td>waterloo</td>\n",
       "      <td>[waterloo &amp; city, bakerloo, northern, jubilee]</td>\n",
       "      <td>Lambeth</td>\n",
       "      <td>1</td>\n",
       "      <td>91.269997</td>\n",
       "      <td>4</td>\n",
       "    </tr>\n",
       "    <tr>\n",
       "      <th>170</th>\n",
       "      <td>oxford circus</td>\n",
       "      <td>[central, bakerloo, victoria]</td>\n",
       "      <td>City of Westminster</td>\n",
       "      <td>1</td>\n",
       "      <td>84.089996</td>\n",
       "      <td>3</td>\n",
       "    </tr>\n",
       "    <tr>\n",
       "      <th>241</th>\n",
       "      <td>victoria</td>\n",
       "      <td>[district, circle, victoria]</td>\n",
       "      <td>City of Westminster</td>\n",
       "      <td>1</td>\n",
       "      <td>79.360001</td>\n",
       "      <td>3</td>\n",
       "    </tr>\n",
       "    <tr>\n",
       "      <th>139</th>\n",
       "      <td>london bridge</td>\n",
       "      <td>[northern, jubilee]</td>\n",
       "      <td>Southwark</td>\n",
       "      <td>1</td>\n",
       "      <td>69.050003</td>\n",
       "      <td>2</td>\n",
       "    </tr>\n",
       "  </tbody>\n",
       "</table>\n",
       "</div>"
      ],
      "text/plain": [
       "                     station  \\\n",
       "129  king's cross st pancras   \n",
       "246                 waterloo   \n",
       "170            oxford circus   \n",
       "241                 victoria   \n",
       "139            london bridge   \n",
       "\n",
       "                                                  line      local_authority  \\\n",
       "129  [metropolitan, northern, piccadilly, circle, v...               Camden   \n",
       "246     [waterloo & city, bakerloo, northern, jubilee]              Lambeth   \n",
       "170                      [central, bakerloo, victoria]  City of Westminster   \n",
       "241                       [district, circle, victoria]  City of Westminster   \n",
       "139                                [northern, jubilee]            Southwark   \n",
       "\n",
       "    zone      usage  no_of_lines  \n",
       "129    1  97.919998            6  \n",
       "246    1  91.269997            4  \n",
       "170    1  84.089996            3  \n",
       "241    1  79.360001            3  \n",
       "139    1  69.050003            2  "
      ]
     },
     "execution_count": 42,
     "metadata": {},
     "output_type": "execute_result"
    }
   ],
   "source": [
    "df.head()"
   ]
  }
 ],
 "metadata": {
  "kernelspec": {
   "display_name": "london-housing-market",
   "language": "python",
   "name": "london-housing-market"
  },
  "language_info": {
   "codemirror_mode": {
    "name": "ipython",
    "version": 3
   },
   "file_extension": ".py",
   "mimetype": "text/x-python",
   "name": "python",
   "nbconvert_exporter": "python",
   "pygments_lexer": "ipython3",
   "version": "3.6.5"
  }
 },
 "nbformat": 4,
 "nbformat_minor": 2
}
